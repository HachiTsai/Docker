{
 "cells": [
  {
   "cell_type": "markdown",
   "id": "f8eeebf0",
   "metadata": {},
   "source": [
    "# Mermaid官方網站\n",
    "https://mermaid.js.org/syntax/classDiagram.html"
   ]
  },
  {
   "cell_type": "code",
   "execution_count": null,
   "id": "fbffbad7",
   "metadata": {},
   "outputs": [],
   "source": [
    "# 必須升級 ipython ---%pip install --upgrade jupyter ipykernel\n",
    "\n",
    "%pip install mkdocs\n",
    "%pip install mkdocs-material-extensions\n",
    "%pip install mkdocs-jupyter\n",
    "%pip install mkdocs-material"
   ]
  },
  {
   "cell_type": "markdown",
   "id": "c7eae96c",
   "metadata": {},
   "source": [
    "\n",
    "# DOCKER+CONDA的流程\n",
    "\n",
    "```mermaid\n",
    "flowchart TD\n",
    "    %% 主流程\n",
    "    A[啟動 VS Code 專案] --> B{是否存在 .devcontainer}\n",
    "    B -- 是 --> C[載入 devcontainer.json]\n",
    "    B -- 否 --> Z[提示使用者建立 .devcontainer]\n",
    "\n",
    "    %% devcontainer 設定流程\n",
    "    subgraph Devcontainer 設定流程\n",
    "        C --> D[解析 Dockerfile]\n",
    "        D --> E[執行 docker build]\n",
    "        E --> F{是否包含 Conda 設定}\n",
    "        F -- 是 --> G[建立 Conda 環境]\n",
    "        F -- 否 --> H[跳過 Conda]\n",
    "        G --> I[安裝必要套件]\n",
    "        H --> I\n",
    "    end\n",
    "\n",
    "    %% 啟動容器流程\n",
    "    subgraph 開發容器啟動\n",
    "        I --> J[啟動容器並掛載專案]\n",
    "        J --> K[執行 postCreateCommand]\n",
    "        K --> L{是否成功啟動}\n",
    "        L -- 是 --> M[進入開發環境]\n",
    "        L -- 否 --> N[錯誤處理與提示]\n",
    "    end\n",
    "\n",
    "    %% 錯誤處理流程\n",
    "    subgraph 錯誤處理\n",
    "        N --> N1[檢查 Dockerfile 語法]\n",
    "        N --> N2[檢查 Conda YAML 格式]\n",
    "        N --> N3[檢查 VS Code 設定]\n",
    "    end\n",
    "```"
   ]
  },
  {
   "cell_type": "markdown",
   "id": "b114fe42",
   "metadata": {},
   "source": [
    "```mermaid\n",
    "graph LR \n",
    "    A1[DB0049] -->|\"<font color='red' style='background-color:white;font-style:italic; font-weight:bold'>NOT</font>\"| C1{任一訊號為TRUE}\n",
    "    B1[D0093] -->|\"<font color='red' style='background-color:white;font-style:italic; font-weight:bold'>NOT</font>\"| C1\n",
    "```\n"
   ]
  },
  {
   "cell_type": "markdown",
   "id": "6c0737c2",
   "metadata": {},
   "source": [
    "```mermaid\n",
    "---\n",
    "title: Animal example\n",
    "---\n",
    "classDiagram\n",
    "    note \"From Duck till Zebra\"\n",
    "    Animal <|-- Duck\n",
    "    note for Duck \"can fly\\ncan swim\\ncan dive\\ncan help in debugging\"\n",
    "    Animal <|-- Fish\n",
    "    Animal <|-- Zebra\n",
    "    Animal : +int age\n",
    "    Animal : +String gender\n",
    "    Animal: +isMammal()\n",
    "    Animal: +mate()\n",
    "    class Duck{\n",
    "        +String beakColor\n",
    "        +swim()\n",
    "        +quack()\n",
    "    }\n",
    "    class Fish{\n",
    "        -int sizeInFeet\n",
    "        -canEat()\n",
    "    }\n",
    "    class Zebra{\n",
    "        +bool is_wild\n",
    "        +run()\n",
    "    }\n",
    "```"
   ]
  },
  {
   "cell_type": "markdown",
   "id": "0e3771f5",
   "metadata": {},
   "source": [
    "```mermaid\n",
    "classDiagram\n",
    "    class `Animal Class!`\n",
    "    class `Car Class`\n",
    "    `Animal Class!` --> `Car Class`\n",
    "```"
   ]
  },
  {
   "cell_type": "markdown",
   "id": "1cc47331",
   "metadata": {},
   "source": [
    "```mermaid\n",
    "flowchart LR\n",
    "    A1[DB0049] -->|\"NOT\"| C1{{任一訊號為 TRUE}}\n",
    "    B1[DI0093] -->|\"NOT\"| C1\n",
    "    C1 -->|TRUE| E1[✅ MF01 = TRUE]\n",
    "\n",
    "    linkStyle 0 color:red;\n",
    "    classDef critical fill:#black,stroke:#ff0000,stroke-width:2px;\n",
    "    class A1,B1,E1 critical\n",
    "```"
   ]
  }
 ],
 "metadata": {
  "kernelspec": {
   "display_name": ".venv",
   "language": "python",
   "name": "python3"
  },
  "language_info": {
   "codemirror_mode": {
    "name": "ipython",
    "version": 3
   },
   "file_extension": ".py",
   "mimetype": "text/x-python",
   "name": "python",
   "nbconvert_exporter": "python",
   "pygments_lexer": "ipython3",
   "version": "3.11.9"
  }
 },
 "nbformat": 4,
 "nbformat_minor": 5
}
