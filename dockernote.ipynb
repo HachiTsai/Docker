{
 "cells": [
  {
   "cell_type": "markdown",
   "id": "5cf000d6",
   "metadata": {},
   "source": [
    "# 流程圖\n",
    "\n",
    "```mermaid\n",
    "graph TD\n",
    "  A[建立 Buildx Builder] --> B[bootstrap 初始化]\n",
    "  B --> C[使用 buildx 指令]\n",
    "  C --> D{建構平台}\n",
    "  D --> D1[linux/amd64]\n",
    "  D --> D2[linux/arm64]\n",
    "  D1 & D2 --> E[載入映像 --load]\n",
    "  E --> F[本地測試 docker run]\n",
    "  F --> G[跨平台執行成功 🎉]\n",
    "```\n"
   ]
  },
  {
   "cell_type": "markdown",
   "id": "4ef81d23",
   "metadata": {},
   "source": [
    "# ID對應指令\n",
    "\n",
    "| 節點 | 指令 |用途 |\n",
    "|------|--------------------------------------------------|-------------------|\n",
    "| Dockerfile    | `備註*1`        |建立dockerfile |\n",
    "| requirements.txt    | `備註*2`        |需要pip install的項目 |\n",
    "| A    | `docker buildx create --name multi-builder --use` | 建builder(buildx才可以跨平台)|\n",
    "| B    | `docker buildx inspect --bootstrap`              |執行|\n",
    "| C    | `docker buildx build --platform ...`             | |\n",
    "| E    | `--load`                                          | |\n",
    "| F    | `docker run --rm filename:version`           | 刪除IMAGE|\n",
    "| G    | `docker pull hachitsai/filename:version`           | 🔁 在其他機器拉取並執行|\n",
    "| H    | `docker buildx ls`                    |🧭定期檢查 |\n",
    "| I    | `docker buildx rm my-builder`        |🗑️ 刪除指定 builder |\n",
    "| J    | `備註*3`           | 建立IMAGE|\n",
    "\n",
    "\n",
    "\n",
    "\n",
    "## 備註區\n",
    "### *1\n",
    "FROM python:3.12-slim  \n",
    "WORKDIR /app  \n",
    "COPY . .  \n",
    "RUN pip install --no-cache-dir -r requirements.txt  \n",
    "CMD [\"python\", \"main.py\"]  \n",
    "### *2\n",
    "numpy==1.26.4  \n",
    "pandas==2.2.2  \n",
    "flask==3.0.3  \n",
    "matplotlib==3.8.4  \n",
    "scikit-learn==1.4.2  \n",
    "tensorflow==2.15.0  \n",
    "### *3\n",
    "cd Docker  \n",
    "docker buildx build --platform linux/amd64,linux/arm64 \\  \n",
    "  -t hachitsai/mylab1:tag \\  \n",
    "  --push .  \n",
    "  \n",
    "\n",
    "\n",
    "\n"
   ]
  }
 ],
 "metadata": {
  "language_info": {
   "name": "python"
  }
 },
 "nbformat": 4,
 "nbformat_minor": 5
}
