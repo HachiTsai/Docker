{
 "cells": [
  {
   "cell_type": "markdown",
   "id": "5cf000d6",
   "metadata": {},
   "source": [
    "# 流程圖\n",
    "\n",
    "```mermaid\n",
    "graph TD\n",
    "  A[建立 Buildx Builder] --> B[bootstrap 初始化]\n",
    "  B --> C[使用 buildx 指令]\n",
    "  C --> D{建構平台}\n",
    "  D --> D1[linux/amd64]\n",
    "  D --> D2[linux/arm64]\n",
    "  D1 & D2 --> E[載入映像 --load]\n",
    "  E --> F[本地測試 docker run]\n",
    "  F --> G[跨平台執行成功 🎉]\n",
    "```\n"
   ]
  },
  {
   "cell_type": "markdown",
   "id": "4ef81d23",
   "metadata": {},
   "source": [
    "# ID對應指令\n",
    "\n",
    "| 節點 | 指令 |\n",
    "|------|--------------------------------------------------|\n",
    "| A    | `docker buildx create --name multi-builder --use` |\n",
    "| B    | `docker buildx inspect --bootstrap`              |\n",
    "| C    | `docker buildx build --platform ...`             |\n",
    "| E    | `--load`                                          |\n",
    "| F    | `docker run --rm my-python-app:latest`           |\n"
   ]
  }
 ],
 "metadata": {
  "language_info": {
   "name": "python"
  }
 },
 "nbformat": 4,
 "nbformat_minor": 5
}
